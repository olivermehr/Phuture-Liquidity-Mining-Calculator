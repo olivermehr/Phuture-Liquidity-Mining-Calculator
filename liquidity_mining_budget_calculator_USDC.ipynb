{
 "cells": [
  {
   "cell_type": "markdown",
   "id": "2ee3bbc7",
   "metadata": {},
   "source": [
    "# Phuture's Liquidity Mining Calculations - How much should we distribute?\n",
    "\n"
   ]
  },
  {
   "cell_type": "markdown",
   "id": "14b0b4cb",
   "metadata": {},
   "source": [
    "First we import the coingecko API to retrieve the PHTR price, set the token0 and token1 balances of the PHTR/USDC liquidity pool(based on current prices) and set up our variables."
   ]
  },
  {
   "cell_type": "code",
   "execution_count": 252,
   "id": "e124ebd0",
   "metadata": {},
   "outputs": [
    {
     "name": "stdout",
     "output_type": "stream",
     "text": [
      "0.12\n"
     ]
    }
   ],
   "source": [
    "from pycoingecko import CoinGeckoAPI\n",
    "cg = CoinGeckoAPI()\n",
    "\n",
    "x=1000 #PHTR\n",
    "y=120  #USDC\n",
    "k=x*y\n",
    "target_investment_size = 25000 #Denominated in USDC\n",
    "target_price_impact = -0.5 #Adjust to target a different price impact. Insert as a percentage without the % sign\n",
    "phtr_price = y/x #USD denominated PHTR price\n",
    "usdc_price = 1\n",
    "target_apr = 0.10 #Target APY for liquidity mining program once pool value required to satisfy price impact criterion has been reached\n",
    "print(phtr_price)"
   ]
  },
  {
   "cell_type": "markdown",
   "id": "d473e7a3",
   "metadata": {},
   "source": [
    "Define a function to calculate the spot price for an infinitesimally small trade size."
   ]
  },
  {
   "cell_type": "code",
   "execution_count": 253,
   "id": "762735ac",
   "metadata": {},
   "outputs": [
    {
     "name": "stdout",
     "output_type": "stream",
     "text": [
      "8.333333333333334\n",
      "1000 120\n"
     ]
    }
   ],
   "source": [
    "def spot_rate(x,y):\n",
    "    return x/y\n",
    "print(spot_rate(x,y))\n",
    "print (x,y)"
   ]
  },
  {
   "cell_type": "markdown",
   "id": "45060d09",
   "metadata": {},
   "source": [
    "Define a function to calculate the actual trade price based on the target_investment_size."
   ]
  },
  {
   "cell_type": "code",
   "execution_count": 254,
   "id": "5f417180",
   "metadata": {},
   "outputs": [],
   "source": [
    "def trade_price(x, y):\n",
    "    new_y = target_investment_size + y\n",
    "    new_x = (x*y)/new_y\n",
    "    x_out = x-new_x\n",
    "    return x_out/target_investment_size"
   ]
  },
  {
   "cell_type": "markdown",
   "id": "380329ee",
   "metadata": {},
   "source": [
    "Define a function to calculate the amount of price impact in percentatage terms generated from a trade of size equal to the target_investment_size. This function will be used in the while loop so we will prefix it with an underscore to delineate it as internal."
   ]
  },
  {
   "cell_type": "code",
   "execution_count": 255,
   "id": "0c8137f6",
   "metadata": {},
   "outputs": [],
   "source": [
    "def _price_impact(x, y):\n",
    "    abs = spot_rate(x,y) - trade_price(x,y)\n",
    "    percent = (trade_price(x,y)/spot_rate(x,y) -1)*100\n",
    "    return percent"
   ]
  },
  {
   "cell_type": "markdown",
   "id": "b1c914df",
   "metadata": {},
   "source": [
    "Define an external price impact function with print statements."
   ]
  },
  {
   "cell_type": "code",
   "execution_count": 256,
   "id": "786f9b9b",
   "metadata": {},
   "outputs": [
    {
     "name": "stdout",
     "output_type": "stream",
     "text": [
      "Spot Price: 8.333333333333568 USDC per 1 PHTR\n",
      "Trade Price: 4.156642608928212 USDC per 1 PHTR\n",
      "Price Impact: -50.12028869286287%\n",
      "-50.12028869286287\n"
     ]
    }
   ],
   "source": [
    "def price_impact(x,y):\n",
    "    abs = spot_rate(x,y) - trade_price(x,y)\n",
    "    percent = (trade_price(x,y)/spot_rate(x,y) -1)*100\n",
    "    print('Spot Price:',spot_rate(x,y),'USDC per 1 PHTR')\n",
    "    print('Trade Price:',trade_price(x,y),'USDC per 1 PHTR')\n",
    "    print('Price Impact: '+str(percent) +'%')\n",
    "    return percent\n",
    "print(price_impact(207333.33333333916,24880))"
   ]
  },
  {
   "cell_type": "markdown",
   "id": "54e45f2d",
   "metadata": {},
   "source": [
    "Define a function that allows us to change the price of PHTR. This helps us to understand how the required amount of PHTR rewards change depending on the token price. "
   ]
  },
  {
   "cell_type": "code",
   "execution_count": 257,
   "id": "f1d71aaa",
   "metadata": {},
   "outputs": [],
   "source": [
    "def adjust_price(k,new_price=y/x):\n",
    "    global x\n",
    "    global y\n",
    "    global phtr_price\n",
    "    x= (k*new_price)**(1/2)\n",
    "    y = (k/new_price)**(1/2)\n",
    "    phtr_price = y/x\n",
    "    return x/y"
   ]
  },
  {
   "cell_type": "markdown",
   "id": "66f5bd16",
   "metadata": {},
   "source": [
    "We then adjust the price to 0.4USD. This is to factor in some growth in the price of PHTR. The accuracy of this price is only some what relevant. The LM program is split into two 6 month tranches, so if the price is lagging this estimate we can bolster rewards in the second 6 month tranche."
   ]
  },
  {
   "cell_type": "code",
   "execution_count": 258,
   "id": "07b0a920",
   "metadata": {},
   "outputs": [
    {
     "name": "stdout",
     "output_type": "stream",
     "text": [
      "2.25\n"
     ]
    }
   ],
   "source": [
    "print(adjust_price(k,2.25)) #Insert a new PHTR price to see how this affects the required PHTR to satisfy the target yield. The default is the current price."
   ]
  },
  {
   "cell_type": "markdown",
   "id": "97e06dac",
   "metadata": {},
   "source": [
    "Create a while loop that increments the balance of USDC and PHTR in the pool until the minimum price impact requirement is met. Here we are using our variable target_price_impact and as mentioned before, price impact is calculated on our target_investment_size of 25000 USDC. "
   ]
  },
  {
   "cell_type": "code",
   "execution_count": 259,
   "id": "93cf3a23",
   "metadata": {},
   "outputs": [],
   "source": [
    "while _price_impact(x,y) < target_price_impact:\n",
    "    x+=(spot_rate(x,y)*10)\n",
    "    y+=10"
   ]
  },
  {
   "cell_type": "markdown",
   "id": "a285754b",
   "metadata": {},
   "source": [
    "After the while loop has completed we can calculate the USD balance of the pool, then based off of this, calculate the required USD to satisfy our target_apr and finally calculate the amount of PHTR that needs to be distributed. "
   ]
  },
  {
   "cell_type": "code",
   "execution_count": 260,
   "id": "7b33a57b",
   "metadata": {},
   "outputs": [
    {
     "name": "stdout",
     "output_type": "stream",
     "text": [
      "0.4444444444444444\n"
     ]
    }
   ],
   "source": [
    "total_usd_value = x*phtr_price+y*usdc_price\n",
    "usd_required = total_usd_value * target_apr\n",
    "phtr_required = usd_required/phtr_price\n",
    "print(phtr_price)"
   ]
  },
  {
   "cell_type": "markdown",
   "id": "ac63088d",
   "metadata": {},
   "source": [
    "Lastly, the print statements that show the pertinent output information."
   ]
  },
  {
   "cell_type": "code",
   "execution_count": 261,
   "id": "3d60e9de",
   "metadata": {},
   "outputs": [
    {
     "name": "stdout",
     "output_type": "stream",
     "text": [
      "Reserves: x: 11193752.11524227 y: 4975000.940107675\n",
      "Spot Price: 2.2500000000000004 USDC per 1 PHTR\n",
      "Trade Price: 2.23875000211522 USDC per 1 PHTR\n",
      "Price Impact: -0.4999999059902449%\n",
      "PHTR Price: 0.4444444444444444 USD\n",
      "Total USD value of pool required to satisfy target_price_impact criterion: 9950001.88021535\n",
      "Required USD to satisfy target yield: 995000.188021535\n",
      "Required PHTR to satisfy target yield: 2238750.423048454\n"
     ]
    }
   ],
   "source": [
    "print('Reserves: x:',x,'y:',y)\n",
    "price_impact(x,y)\n",
    "print('PHTR Price:',phtr_price,'USD')\n",
    "print('Total USD value of pool required to satisfy target_price_impact criterion:',total_usd_value)\n",
    "print('Required USD to satisfy target yield:',usd_required)\n",
    "print('Required PHTR to satisfy target yield:',phtr_required)"
   ]
  },
  {
   "cell_type": "code",
   "execution_count": 268,
   "id": "5b1751f7",
   "metadata": {},
   "outputs": [
    {
     "name": "stdout",
     "output_type": "stream",
     "text": [
      "To summarise, the PHTR/USDC pool would need to have 11193752.11524227 PHTR and 4975000.940107675 USDC in order to produce less than -0.5% price impact on a 25000 USDC trade. In order to provide a 0.1 APR on the 995000.188021535 USD pool size we would need to distribute 2238750.423048454 PHTR (at the estimated PHTR price).\n"
     ]
    }
   ],
   "source": [
    "print('To summarise, the PHTR/USDC pool would need to have {x} PHTR and {y} USDC in order to produce less than {price_impact}% price impact on a {trade_size} USDC trade. In order to provide a {apr} APR on the {usd_pool_value} USD pool size we would need to distribute {phtr_to_distribute} PHTR (at the estimated PHTR price).'.format(x = x,y=y,price_impact = target_price_impact,apr = target_apr,usd_pool_value = usd_required,trade_size = target_investment_size,phtr_to_distribute = phtr_required))"
   ]
  }
 ],
 "metadata": {
  "kernelspec": {
   "display_name": "Python 3",
   "language": "python",
   "name": "python3"
  },
  "language_info": {
   "codemirror_mode": {
    "name": "ipython",
    "version": 3
   },
   "file_extension": ".py",
   "mimetype": "text/x-python",
   "name": "python",
   "nbconvert_exporter": "python",
   "pygments_lexer": "ipython3",
   "version": "3.8.10"
  }
 },
 "nbformat": 4,
 "nbformat_minor": 5
}
