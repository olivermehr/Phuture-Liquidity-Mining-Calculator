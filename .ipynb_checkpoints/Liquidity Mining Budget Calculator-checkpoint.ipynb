{
 "cells": [
  {
   "cell_type": "markdown",
   "id": "2ee3bbc7",
   "metadata": {},
   "source": [
    "# Phuture's Liquidity Mining Calculations - How much should we distribute?\n",
    "\n"
   ]
  },
  {
   "cell_type": "markdown",
   "id": "14b0b4cb",
   "metadata": {},
   "source": [
    "First we import the coingecko API to retrieve the ETH and PHTR price, set the token0 and token1 balances of the ETH/PHTR liquidity pool and set up our variables."
   ]
  },
  {
   "cell_type": "code",
   "execution_count": 6,
   "id": "e124ebd0",
   "metadata": {},
   "outputs": [],
   "source": [
    "from pycoingecko import CoinGeckoAPI\n",
    "cg = CoinGeckoAPI()\n",
    "\n",
    "x=21849238949042713374/10**18 #ETH\n",
    "y=392564217471366977912041/10**18  #PHTR\n",
    "k=x*y\n",
    "target_investment_size = 10 #Denominated in ETH\n",
    "target_price_impact = -0.5 #Adjust to target a different price impact. Insert as a percentage without the % sign\n",
    "eth_price = cg.get_price('ethereum', vs_currencies = 'usd')['ethereum']['usd'] #Current ETH price\n",
    "phtr_price = cg.get_price('phuture',vs_currencies = 'usd')['phuture']['usd'] #USD denominated PHTR price\n",
    "target_apr = 0.10 #Target APY for liquidity mining program once pool value required to satisfy price impact criterion has been reached"
   ]
  },
  {
   "cell_type": "markdown",
   "id": "d473e7a3",
   "metadata": {},
   "source": [
    "Define a function to calculate the spot price for an infinitesimally small trade size."
   ]
  },
  {
   "cell_type": "code",
   "execution_count": 7,
   "id": "762735ac",
   "metadata": {},
   "outputs": [
    {
     "name": "stdout",
     "output_type": "stream",
     "text": [
      "17966.95154402925\n"
     ]
    }
   ],
   "source": [
    "def spot_rate(x,y):\n",
    "    return y/x\n",
    "print(spot_rate(x,y))"
   ]
  },
  {
   "cell_type": "markdown",
   "id": "45060d09",
   "metadata": {},
   "source": [
    "Define a function to calculate the actual trade price based on the target_investment_size."
   ]
  },
  {
   "cell_type": "code",
   "execution_count": 8,
   "id": "5f417180",
   "metadata": {},
   "outputs": [],
   "source": [
    "def trade_price(x, y):\n",
    "    new_x = target_investment_size+x\n",
    "    new_y = (x*y)/new_x\n",
    "    y_out = y-new_y\n",
    "    return y_out/target_investment_size"
   ]
  },
  {
   "cell_type": "markdown",
   "id": "380329ee",
   "metadata": {},
   "source": [
    "Define a function to calculate the amount of price impact in percentatage terms generated from a trade of size equal to the target_investment_size. This function will be used in the while loop so we will prefix it with an underscore to delineate it as internal."
   ]
  },
  {
   "cell_type": "code",
   "execution_count": 9,
   "id": "0c8137f6",
   "metadata": {},
   "outputs": [],
   "source": [
    "def _price_impact(x, y):\n",
    "    abs = spot_rate(x,y) - trade_price(x,y)\n",
    "    percent = (trade_price(x,y)/spot_rate(x,y) -1)*100\n",
    "    return percent"
   ]
  },
  {
   "cell_type": "markdown",
   "id": "b1c914df",
   "metadata": {},
   "source": [
    "Define an external price impact function with print statements."
   ]
  },
  {
   "cell_type": "code",
   "execution_count": 10,
   "id": "786f9b9b",
   "metadata": {},
   "outputs": [],
   "source": [
    "def price_impact(x,y):\n",
    "    abs = spot_rate(x,y) - trade_price(x,y)\n",
    "    percent = (trade_price(x,y)/spot_rate(x,y) -1)*100\n",
    "    print('Spot Price:',spot_rate(x,y),'PHTR per 1 ETH')\n",
    "    print('Trade Price:',trade_price(x,y),'PHTR per 1 ETH')\n",
    "    print('Price Impact: '+str(percent) +'%')\n",
    "    return percent"
   ]
  },
  {
   "cell_type": "markdown",
   "id": "54e45f2d",
   "metadata": {},
   "source": [
    "Define a function that allows us to change the price of PHTR. This helps us to understand how the required amount of PHTR rewards change depending on the token price. "
   ]
  },
  {
   "cell_type": "code",
   "execution_count": 11,
   "id": "f1d71aaa",
   "metadata": {},
   "outputs": [],
   "source": [
    "def adjust_price(k,new_price=x/y):\n",
    "    global x\n",
    "    global y\n",
    "    global phtr_price\n",
    "    x= (k*new_price)**(1/2)\n",
    "    y = (k/new_price)**(1/2)\n",
    "    phtr_price = x/y*eth_price\n",
    "    print(phtr_price)"
   ]
  },
  {
   "cell_type": "markdown",
   "id": "66f5bd16",
   "metadata": {},
   "source": [
    "We then adjust the price to approx 0.4USD. This is to factor in some growth in the price of PHTR. The accuracy of this price is only some what relevant. The LM program is split into two 6 month tranches, so if the price is lagging this estimate we can bolster rewards in the second 6 month tranche."
   ]
  },
  {
   "cell_type": "code",
   "execution_count": 12,
   "id": "07b0a920",
   "metadata": {},
   "outputs": [
    {
     "name": "stdout",
     "output_type": "stream",
     "text": [
      "0.38220599250324805\n"
     ]
    }
   ],
   "source": [
    "adjust_price(k,0.0001872659176) #Insert a new ETH denominated price to see how this affects the required PHTR to satisfy the target yield. The default is current price."
   ]
  },
  {
   "cell_type": "markdown",
   "id": "97e06dac",
   "metadata": {},
   "source": [
    "Create a while loop that increments the balance of ETH and PHTR in the pool until the minimum price impact requirement is met. Here we are using our variable target_price_impact and as mentioned before, price impact is calculated on our target_investment_size of 10 eth. "
   ]
  },
  {
   "cell_type": "code",
   "execution_count": 13,
   "id": "93cf3a23",
   "metadata": {},
   "outputs": [],
   "source": [
    "while _price_impact(x,y) < target_price_impact:\n",
    "    x+=1\n",
    "    y+=spot_rate(x,y)"
   ]
  },
  {
   "cell_type": "markdown",
   "id": "a285754b",
   "metadata": {},
   "source": [
    "After the while loop has completed we can calculate the USD balance of the pool, then based off of this, calculate the required USD to satisfy our target_apr and finally calculate the amount of PHTR that needs to be distributed. "
   ]
  },
  {
   "cell_type": "code",
   "execution_count": 14,
   "id": "7b33a57b",
   "metadata": {},
   "outputs": [],
   "source": [
    "total_usd_value = x*eth_price+y*phtr_price\n",
    "usd_required = total_usd_value * target_apr\n",
    "phtr_required = usd_required/phtr_price"
   ]
  },
  {
   "cell_type": "markdown",
   "id": "ac63088d",
   "metadata": {},
   "source": [
    "Lastly, the print statements that show the pertinent output information."
   ]
  },
  {
   "cell_type": "code",
   "execution_count": 15,
   "id": "3d60e9de",
   "metadata": {},
   "outputs": [
    {
     "name": "stdout",
     "output_type": "stream",
     "text": [
      "Reserves: x: 1990.0777086702124 y: 10373519.812542059\n",
      "Spot Price: 5212.620475747019 PHTR per 1 ETH\n",
      "Trade Price: 5186.558385993354 PHTR per 1 ETH\n",
      "Price Impact: -0.4999805735891316%\n",
      "PHTR Price: 0.38220599250324805 USD\n",
      "Total USD value of pool required to satisfy target_price_impact criterion: 8026530.237546476\n",
      "Required USD to satisfy target yield: 802653.0237546476\n",
      "Required PHTR to satisfy target yield: 2100053.4777011024\n"
     ]
    }
   ],
   "source": [
    "print('Reserves:','x:',x,'y:',y)\n",
    "price_impact(x,y)\n",
    "print('PHTR Price:',phtr_price,'USD')\n",
    "print('Total USD value of pool required to satisfy target_price_impact criterion:',total_usd_value)\n",
    "print('Required USD to satisfy target yield:',usd_required)\n",
    "print('Required PHTR to satisfy target yield:',phtr_required)"
   ]
  },
  {
   "cell_type": "markdown",
   "id": "7edb25bb",
   "metadata": {},
   "source": [
    "To summarise, the ETH/PHTR pool would need to have 1990.0777086702124 ETH and 10,373,519.8 PHTR in order to produce less than 0.5% price impact on a 10 ETH trade. In order to provide a 10% APR on the 8,122,527.06 USD pool size we would need to distribute 2,100,053.5 PHTR (at the current eth price and estimated PHTR price)."
   ]
  }
 ],
 "metadata": {
  "kernelspec": {
   "display_name": "Python 3",
   "language": "python",
   "name": "python3"
  },
  "language_info": {
   "codemirror_mode": {
    "name": "ipython",
    "version": 3
   },
   "file_extension": ".py",
   "mimetype": "text/x-python",
   "name": "python",
   "nbconvert_exporter": "python",
   "pygments_lexer": "ipython3",
   "version": "3.8.10"
  }
 },
 "nbformat": 4,
 "nbformat_minor": 5
}
